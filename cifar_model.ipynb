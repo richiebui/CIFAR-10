{
 "cells": [
  {
   "cell_type": "code",
   "execution_count": 3,
   "metadata": {},
   "outputs": [],
   "source": [
    "from keras.datasets import cifar10\n",
    "import matplotlib.pyplot as plt\n",
    "\n",
    "# List of names for each CIFAR10 class\n",
    "cifar10_class_names = {\n",
    "    0: \"Plane\",\n",
    "    1: \"Car\",\n",
    "    2: \"Bird\",\n",
    "    3: \"Cat\",\n",
    "    4: \"Deer\",\n",
    "    5: \"Dog\",\n",
    "    6: \"Frog\",\n",
    "    7: \"Horse\",\n",
    "    8: \"Boat\",\n",
    "    9: \"Truck\"\n",
    "}\n",
    "\n",
    "# Load the entire data set\n",
    "(x_train, y_train), (x_test, y_test) = cifar10.load_data()\n"
   ]
  },
  {
   "cell_type": "code",
   "execution_count": 6,
   "metadata": {},
   "outputs": [],
   "source": [
    "import keras"
   ]
  },
  {
   "cell_type": "code",
   "execution_count": 5,
   "metadata": {},
   "outputs": [],
   "source": [
    "#Normalize data set to 0-to-1 range\n",
    "\n",
    "x_train = x_train.astype('float32')\n",
    "x_test = x_test.astype('float32')\n",
    "x_train = x_train / 255\n",
    "x_test = x_test / 255"
   ]
  },
  {
   "cell_type": "code",
   "execution_count": 7,
   "metadata": {},
   "outputs": [],
   "source": [
    "#Convert class vectors to binary class matrices\n",
    "y_train = keras.utils.to_categorical(y_train, 10)\n",
    "y_test = keras.utils.to_categorical(y_test, 10)"
   ]
  },
  {
   "cell_type": "code",
   "execution_count": 10,
   "metadata": {},
   "outputs": [],
   "source": [
    "from keras.models import Sequential\n",
    "from keras.layers import Dense, Dropout, Flatten, Conv2D, MaxPooling2D"
   ]
  },
  {
   "cell_type": "code",
   "execution_count": 15,
   "metadata": {},
   "outputs": [
    {
     "name": "stdout",
     "output_type": "stream",
     "text": [
      "_________________________________________________________________\n",
      "Layer (type)                 Output Shape              Param #   \n",
      "=================================================================\n",
      "conv2d_13 (Conv2D)           (None, 32, 32, 32)        896       \n",
      "_________________________________________________________________\n",
      "conv2d_14 (Conv2D)           (None, 30, 30, 32)        9248      \n",
      "_________________________________________________________________\n",
      "max_pooling2d_5 (MaxPooling2 (None, 15, 15, 32)        0         \n",
      "_________________________________________________________________\n",
      "dropout_4 (Dropout)          (None, 15, 15, 32)        0         \n",
      "_________________________________________________________________\n",
      "conv2d_15 (Conv2D)           (None, 15, 15, 64)        18496     \n",
      "_________________________________________________________________\n",
      "conv2d_16 (Conv2D)           (None, 13, 13, 64)        36928     \n",
      "_________________________________________________________________\n",
      "max_pooling2d_6 (MaxPooling2 (None, 6, 6, 64)          0         \n",
      "_________________________________________________________________\n",
      "dropout_5 (Dropout)          (None, 6, 6, 64)          0         \n",
      "_________________________________________________________________\n",
      "flatten_4 (Flatten)          (None, 2304)              0         \n",
      "_________________________________________________________________\n",
      "dense_9 (Dense)              (None, 512)               1180160   \n",
      "_________________________________________________________________\n",
      "dropout_6 (Dropout)          (None, 512)               0         \n",
      "_________________________________________________________________\n",
      "dense_10 (Dense)             (None, 10)                5130      \n",
      "=================================================================\n",
      "Total params: 1,250,858\n",
      "Trainable params: 1,250,858\n",
      "Non-trainable params: 0\n",
      "_________________________________________________________________\n"
     ]
    }
   ],
   "source": [
    "#create model and add layers\n",
    "model = Sequential()\n",
    "\n",
    "#insert convolutional layer\n",
    "#add another convolutional layer\n",
    "#this layer wont need padding and input shape is no longer needed\n",
    "model.add(Conv2D(32, (3, 3), padding='same', activation='relu',input_shape= (32, 32, 3)))\n",
    "model.add(Conv2D(32, (3, 3), activation = 'relu'))\n",
    "\n",
    "#add max pooling layer\n",
    "#we will do a 2 by 2 pool\n",
    "model.add(MaxPooling2D(pool_size=(2,2)))\n",
    "\n",
    "#add a dropout layer\n",
    "#parameter it needs the is percentage of nueral connections to drop\n",
    "model.add(Dropout(0.25))\n",
    "\n",
    "#add another convolutional layer with 64 filters with padding\n",
    "#add another layer with no padding\n",
    "model.add(Conv2D(64, (3,3), padding='same', activation='relu')) \n",
    "model.add(Conv2D(64, (3,3), activation='relu'))\n",
    "\n",
    "#add another max pooling layer\n",
    "model.add(MaxPooling2D(pool_size=(2,2)))\n",
    "\n",
    "#add another dropout layer\n",
    "model.add(Dropout(0.25))\n",
    "\n",
    "#when transitioning from a convolutional layer to a dense layer\n",
    "#we need to be able to tell keras that we are no longer working with 2D data\n",
    "#this is where we need to flatten our data\n",
    "model.add(Flatten())\n",
    "\n",
    "#add our dense layers\n",
    "model.add(Dense(512, activation='relu'))\n",
    "#add one last dropout to make our model work a little harder\n",
    "model.add(Dropout(0.5))\n",
    "model.add(Dense(10, activation='softmax'))\n",
    "\n",
    "#compile the model\n",
    "model.compile(\n",
    "    loss='categorical_crossentropy',\n",
    "    optimizer=\"adam\",\n",
    "    metrics=[\"accuracy\"]\n",
    ")\n",
    "\n",
    "#print a summary of the model\n",
    "model.summary()"
   ]
  },
  {
   "cell_type": "code",
   "execution_count": 16,
   "metadata": {},
   "outputs": [],
   "source": [
    "# max_pooling layers have 0 param due to the fact that it is decreasing the size of our parameters.\n",
    "# this will allow for a quicker model process\n",
    "# dropout will also have 0 param due to its purpose of just throwing out data\n"
   ]
  },
  {
   "cell_type": "code",
   "execution_count": 17,
   "metadata": {},
   "outputs": [
    {
     "name": "stdout",
     "output_type": "stream",
     "text": [
      "Train on 50000 samples, validate on 10000 samples\n",
      "Epoch 1/30\n",
      "50000/50000 [==============================] - 348s 7ms/step - loss: 1.5037 - acc: 0.4524 - val_loss: 1.1065 - val_acc: 0.5966\n",
      "Epoch 2/30\n",
      "50000/50000 [==============================] - 345s 7ms/step - loss: 1.0810 - acc: 0.6161 - val_loss: 0.9104 - val_acc: 0.6731\n",
      "Epoch 3/30\n",
      "50000/50000 [==============================] - 287s 6ms/step - loss: 0.9225 - acc: 0.6758 - val_loss: 0.8172 - val_acc: 0.7113\n",
      "Epoch 4/30\n",
      "50000/50000 [==============================] - 349s 7ms/step - loss: 0.8353 - acc: 0.7069 - val_loss: 0.7668 - val_acc: 0.7294\n",
      "Epoch 5/30\n",
      "50000/50000 [==============================] - 325s 6ms/step - loss: 0.7725 - acc: 0.7297 - val_loss: 0.8048 - val_acc: 0.7257\n",
      "Epoch 6/30\n",
      "50000/50000 [==============================] - 333s 7ms/step - loss: 0.7257 - acc: 0.7473 - val_loss: 0.7304 - val_acc: 0.7476\n",
      "Epoch 7/30\n",
      "50000/50000 [==============================] - 338s 7ms/step - loss: 0.6909 - acc: 0.7567 - val_loss: 0.7242 - val_acc: 0.7525\n",
      "Epoch 8/30\n",
      "50000/50000 [==============================] - 314s 6ms/step - loss: 0.6599 - acc: 0.7664 - val_loss: 0.6840 - val_acc: 0.7690\n",
      "Epoch 9/30\n",
      "50000/50000 [==============================] - 275s 5ms/step - loss: 0.6377 - acc: 0.7759 - val_loss: 0.6784 - val_acc: 0.7727\n",
      "Epoch 10/30\n",
      "50000/50000 [==============================] - 273s 5ms/step - loss: 0.6099 - acc: 0.7844 - val_loss: 0.6715 - val_acc: 0.7688\n",
      "Epoch 11/30\n",
      "50000/50000 [==============================] - 296s 6ms/step - loss: 0.5858 - acc: 0.7952 - val_loss: 0.6552 - val_acc: 0.7782\n",
      "Epoch 12/30\n",
      "50000/50000 [==============================] - 294s 6ms/step - loss: 0.5679 - acc: 0.7998 - val_loss: 0.6553 - val_acc: 0.7808\n",
      "Epoch 13/30\n",
      "50000/50000 [==============================] - 337s 7ms/step - loss: 0.5507 - acc: 0.8066 - val_loss: 0.6636 - val_acc: 0.7808\n",
      "Epoch 14/30\n",
      "50000/50000 [==============================] - 336s 7ms/step - loss: 0.5394 - acc: 0.8109 - val_loss: 0.6414 - val_acc: 0.7856\n",
      "Epoch 15/30\n",
      "50000/50000 [==============================] - 318s 6ms/step - loss: 0.5342 - acc: 0.8128 - val_loss: 0.6492 - val_acc: 0.7835\n",
      "Epoch 16/30\n",
      "50000/50000 [==============================] - 333s 7ms/step - loss: 0.5159 - acc: 0.8186 - val_loss: 0.6536 - val_acc: 0.7831\n",
      "Epoch 17/30\n",
      "50000/50000 [==============================] - 337s 7ms/step - loss: 0.5003 - acc: 0.8247 - val_loss: 0.6508 - val_acc: 0.7891\n",
      "Epoch 18/30\n",
      "50000/50000 [==============================] - 272s 5ms/step - loss: 0.4963 - acc: 0.8254 - val_loss: 0.6584 - val_acc: 0.7879\n",
      "Epoch 19/30\n",
      "50000/50000 [==============================] - 275s 6ms/step - loss: 0.4761 - acc: 0.8309 - val_loss: 0.6638 - val_acc: 0.7799\n",
      "Epoch 20/30\n",
      "50000/50000 [==============================] - 273s 5ms/step - loss: 0.4770 - acc: 0.8323 - val_loss: 0.6396 - val_acc: 0.7887\n",
      "Epoch 21/30\n",
      "50000/50000 [==============================] - 271s 5ms/step - loss: 0.4623 - acc: 0.8357 - val_loss: 0.6475 - val_acc: 0.7871\n",
      "Epoch 22/30\n",
      "50000/50000 [==============================] - 272s 5ms/step - loss: 0.4579 - acc: 0.8388 - val_loss: 0.6667 - val_acc: 0.7898\n",
      "Epoch 23/30\n",
      "50000/50000 [==============================] - 274s 5ms/step - loss: 0.4496 - acc: 0.8428 - val_loss: 0.6691 - val_acc: 0.7851\n",
      "Epoch 24/30\n",
      "50000/50000 [==============================] - 271s 5ms/step - loss: 0.4505 - acc: 0.8407 - val_loss: 0.6902 - val_acc: 0.7847\n",
      "Epoch 25/30\n",
      "50000/50000 [==============================] - 271s 5ms/step - loss: 0.4321 - acc: 0.8485 - val_loss: 0.6535 - val_acc: 0.7926\n",
      "Epoch 26/30\n",
      "50000/50000 [==============================] - 274s 5ms/step - loss: 0.4319 - acc: 0.8484 - val_loss: 0.6733 - val_acc: 0.7925\n",
      "Epoch 27/30\n",
      "50000/50000 [==============================] - 272s 5ms/step - loss: 0.4294 - acc: 0.8502 - val_loss: 0.6476 - val_acc: 0.7968\n",
      "Epoch 28/30\n",
      "50000/50000 [==============================] - 291s 6ms/step - loss: 0.4297 - acc: 0.8519 - val_loss: 0.6787 - val_acc: 0.7933\n",
      "Epoch 29/30\n",
      "50000/50000 [==============================] - 350s 7ms/step - loss: 0.4169 - acc: 0.8547 - val_loss: 0.6835 - val_acc: 0.7941\n",
      "Epoch 30/30\n",
      "50000/50000 [==============================] - 353s 7ms/step - loss: 0.4180 - acc: 0.8543 - val_loss: 0.6791 - val_acc: 0.7888\n"
     ]
    },
    {
     "data": {
      "text/plain": [
       "<keras.callbacks.History at 0xb36921f60>"
      ]
     },
     "execution_count": 17,
     "metadata": {},
     "output_type": "execute_result"
    }
   ],
   "source": [
    "#fit the model on the training data\n",
    "model.fit(\n",
    "    x_train,\n",
    "    y_train,\n",
    "    batch_size=32,\n",
    "    epochs=30,\n",
    "    validation_data = (x_test, y_test),\n",
    "    shuffle=True\n",
    ")\n"
   ]
  },
  {
   "cell_type": "code",
   "execution_count": 21,
   "metadata": {},
   "outputs": [],
   "source": [
    "from pathlib import Path\n",
    "#save neural network structure\n",
    "model_structure = model.to_json()\n",
    "f = Path(\"model_structure.json\")\n",
    "f.write_text(model_structure)\n",
    "\n",
    "#save neural network's trained weights\n",
    "model.save_weights('model_weights.h5')"
   ]
  },
  {
   "cell_type": "code",
   "execution_count": null,
   "metadata": {},
   "outputs": [],
   "source": []
  }
 ],
 "metadata": {
  "kernelspec": {
   "display_name": "Python 3",
   "language": "python",
   "name": "python3"
  },
  "language_info": {
   "codemirror_mode": {
    "name": "ipython",
    "version": 3
   },
   "file_extension": ".py",
   "mimetype": "text/x-python",
   "name": "python",
   "nbconvert_exporter": "python",
   "pygments_lexer": "ipython3",
   "version": "3.6.8"
  }
 },
 "nbformat": 4,
 "nbformat_minor": 2
}
