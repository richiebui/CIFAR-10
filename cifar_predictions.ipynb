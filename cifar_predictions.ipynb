{
 "cells": [
  {
   "cell_type": "code",
   "execution_count": 1,
   "metadata": {},
   "outputs": [],
   "source": [
    "from keras.models import model_from_json\n",
    "from pathlib import Path\n",
    "from keras.preprocessing import image\n",
    "import numpy as np"
   ]
  },
  {
   "cell_type": "code",
   "execution_count": 2,
   "metadata": {},
   "outputs": [],
   "source": [
    "#These are the CIFAR10 class labels from the training data (in order from 0-9)\n",
    "class_labels = [\n",
    "    \"Plane\",\n",
    "    \"Car\",\n",
    "    \"Bird\",\n",
    "    \"Cat\",\n",
    "    \"Deer\",\n",
    "    \"Frog\",\n",
    "    \"Horse\",\n",
    "    \"Boat\",\n",
    "    \"Truck\"\n",
    "]"
   ]
  },
  {
   "cell_type": "code",
   "execution_count": 12,
   "metadata": {},
   "outputs": [
    {
     "name": "stdout",
     "output_type": "stream",
     "text": [
      "This is an image of a Cat - Likelihood: 1.000000\n"
     ]
    }
   ],
   "source": [
    "#load json file that contains the model's structure\n",
    "\n",
    "f = Path(\"model_structure.json\")\n",
    "model_structure = f.read_text()\n",
    "\n",
    "#recreate the keras mdoel object from the json data\n",
    "model = model_from_json(model_structure)\n",
    "\n",
    "#Re-load the model's trained weights\n",
    "model.load_weights(\"model_weights.h5\")\n",
    "\n",
    "#Load an image file to test, resizing it to 32by32 pixels (as required by this model)\n",
    "img = image.load_img(\"cat.png\", target_size=(32,32))\n",
    "\n",
    "#Convert the image to a numpy array\n",
    "image_to_test = image.img_to_array(img)\n",
    "\n",
    "#add a foruth dimension to the image (since Keras expects a list of images, not a )\n",
    "list_of_images = np.expand_dims(image_to_test, axis=0)\n",
    "\n",
    "#make a prediction\n",
    "results = model.predict(list_of_images)\n",
    "\n",
    "#since we are only testing one image, we only need to check the first image\n",
    "single_results = results[0]\n",
    "\n",
    "#we will get a likelihood score for all 10 possible classes. Find out which class has the highest probability.\n",
    "most_likely_class_index = int(np.argmax(single_results))\n",
    "class_likelihood = single_results[most_likely_class_index]\n",
    "\n",
    "#get the name of the most likely class\n",
    "class_label = class_labels[most_likely_class_index]\n",
    "\n",
    "#print the results\n",
    "print(\"This is an image of a {} - Likelihood: {:2f}\".format(class_label, class_likelihood))\n"
   ]
  },
  {
   "cell_type": "code",
   "execution_count": null,
   "metadata": {},
   "outputs": [],
   "source": []
  }
 ],
 "metadata": {
  "kernelspec": {
   "display_name": "Python 3",
   "language": "python",
   "name": "python3"
  },
  "language_info": {
   "codemirror_mode": {
    "name": "ipython",
    "version": 3
   },
   "file_extension": ".py",
   "mimetype": "text/x-python",
   "name": "python",
   "nbconvert_exporter": "python",
   "pygments_lexer": "ipython3",
   "version": "3.6.8"
  }
 },
 "nbformat": 4,
 "nbformat_minor": 2
}
